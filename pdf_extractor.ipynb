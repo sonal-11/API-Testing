{
  "nbformat": 4,
  "nbformat_minor": 0,
  "metadata": {
    "colab": {
      "provenance": [],
      "authorship_tag": "ABX9TyP2beM57iqqYYLMQzRLMt7e",
      "include_colab_link": true
    },
    "kernelspec": {
      "name": "python3",
      "display_name": "Python 3"
    },
    "language_info": {
      "name": "python"
    }
  },
  "cells": [
    {
      "cell_type": "markdown",
      "metadata": {
        "id": "view-in-github",
        "colab_type": "text"
      },
      "source": [
        "<a href=\"https://colab.research.google.com/github/sonal-11/API-Testing/blob/main/pdf_extractor.ipynb\" target=\"_parent\"><img src=\"https://colab.research.google.com/assets/colab-badge.svg\" alt=\"Open In Colab\"/></a>"
      ]
    },
    {
      "cell_type": "code",
      "execution_count": 1,
      "metadata": {
        "colab": {
          "base_uri": "https://localhost:8080/"
        },
        "id": "tCpGJ_Wd4eAr",
        "outputId": "28efa1e0-bd12-413c-9cb9-0e7324f6035d"
      },
      "outputs": [
        {
          "output_type": "stream",
          "name": "stdout",
          "text": [
            "Looking in indexes: https://pypi.org/simple, https://us-python.pkg.dev/colab-wheels/public/simple/\n",
            "Collecting pypdf2\n",
            "  Downloading pypdf2-3.0.1-py3-none-any.whl (232 kB)\n",
            "\u001b[2K     \u001b[90m━━━━━━━━━━━━━━━━━━━━━━━━━━━━━━━━━━━━━━━\u001b[0m \u001b[32m232.6/232.6 KB\u001b[0m \u001b[31m6.0 MB/s\u001b[0m eta \u001b[36m0:00:00\u001b[0m\n",
            "\u001b[?25hRequirement already satisfied: typing_extensions>=3.10.0.0 in /usr/local/lib/python3.8/dist-packages (from pypdf2) (4.5.0)\n",
            "Installing collected packages: pypdf2\n",
            "Successfully installed pypdf2-3.0.1\n"
          ]
        }
      ],
      "source": [
        "pip install pypdf2\n"
      ]
    },
    {
      "cell_type": "code",
      "source": [
        "import PyPDF2\n",
        "\n",
        "pdf_file = open('/content/MH-C-23-43568.pdf', 'rb') # replace 'example.pdf' with the filename of your PDF\n",
        "pdf_reader = PyPDF2.PdfReader(pdf_file)\n",
        "\n",
        "page = pdf_reader.pages[1] # replace 0 with the page number containing the table\n",
        "\n",
        "\n",
        "table_text = []\n",
        "for line in page.extract_text().split('\\n'):\n",
        "    row = line.split()\n",
        "    table_text.append(row)\n",
        "\n",
        "for row in table_text:\n",
        "    print(row)"
      ],
      "metadata": {
        "colab": {
          "base_uri": "https://localhost:8080/"
        },
        "id": "aUM_4jOa42Eb",
        "outputId": "ae9efa94-79a9-41ed-904e-b8046c8ee8e9"
      },
      "execution_count": 9,
      "outputs": [
        {
          "output_type": "stream",
          "name": "stdout",
          "text": [
            "['Credit', 'Note']\n",
            "['(Original', 'for', 'Recipient)']\n",
            "['*ASSPL-Amazon', 'Seller', 'Services', 'Pvt.', 'Ltd.,', 'ARIPL-Amazon', 'Retail', 'India', 'Pvt.', 'Ltd.', '(only', 'where', 'Amazon', 'Retail', 'India', 'Pvt.', 'Ltd.', 'fulfillment', 'center', 'is', 'co-located)']\n",
            "['2SI']\n",
            "['NoOriginal', 'Invoice']\n",
            "['NumberOriginal', 'Invoice']\n",
            "['DateCategory', 'of']\n",
            "['ServiceDescription', 'of', 'ServiceTax']\n",
            "['RateAmount']\n",
            "['SGST', '9.00%-INR']\n",
            "['115.20']\n",
            "['CGST', '9.00%-INR']\n",
            "['115.20']\n",
            "['4.MH-2223-89468', '12-31-2022', '998599', 'FBA', 'Pick', 'and', 'Pack', 'Fee-INR']\n",
            "['65.00']\n",
            "['SGST', '9.00%-INR', '5.85']\n",
            "['CGST', '9.00%-INR', '5.85']\n",
            "['5.MH-2223-99887', '01-31-2023', '996812FBA', 'Weight', 'Handling']\n",
            "['Shipping', 'Fee-INR']\n",
            "['5997.00']\n",
            "['SGST', '9.00%-INR']\n",
            "['539.73']\n",
            "['CGST', '9.00%-INR']\n",
            "['539.73']\n",
            "['6.MH-2223-99887', '01-31-2023', '998599', 'FBA', 'Pick', 'and', 'Pack', 'Fee-INR']\n",
            "['247.00']\n",
            "['SGST', '9.00%-INR']\n",
            "['22.23']\n",
            "['CGST', '9.00%-INR']\n",
            "['22.23']\n",
            "['Total:-INR']\n",
            "['9473.04']\n",
            "['Subtotal', 'of', 'fees', 'amount', '-INR', '8028.00']\n",
            "['Subtotal', 'for', 'SGST', '-INR', '722.52']\n",
            "['Subtotal', 'for', 'CGST', '-INR', '722.52']\n",
            "['Subtotal', 'of', 'GST', 'amount', '-INR', '1445.04']\n",
            "['Total', 'Invoice', 'amount', '-INR', '9473.04']\n",
            "['Details', 'of', 'Fees', 'to', 'the', 'above', 'Credit', 'Note']\n",
            "['DateOriginal', 'Invoice']\n",
            "['NumberOriginal']\n",
            "['Invoice', 'DateCategory', 'of']\n",
            "['ServiceDescription', 'of']\n",
            "['ServiceTax']\n",
            "['RateFee', 'Amount', 'Tax', 'Amount']\n",
            "['01/01/2023', 'MH-2223-89468', '12-31-2022', '996812FBA', 'Weight']\n",
            "['Handling', 'Shipping']\n",
            "['Fee-INR', '282.00']\n",
            "['SGST', '9.00%', '-INR', '25.38']\n",
            "['CGST', '9.00%', '-INR', '25.38']\n"
          ]
        }
      ]
    }
  ]
}